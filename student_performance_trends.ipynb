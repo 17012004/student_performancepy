{
 "cells": [
  {
   "cell_type": "markdown",
   "id": "12f048c6",
   "metadata": {},
   "source": [
    "# Student Performance and Analytics (MCP)\n",
    "\n",
    "This notebook demonstrates an AI-powered prototype logic for detecting trends in student performance using sample hardcoded data and visualization."
   ]
  },
  {
   "cell_type": "code",
   "execution_count": null,
   "id": "0891628b",
   "metadata": {},
   "outputs": [],
   "source": [
    "\n",
    "import pandas as pd\n",
    "import matplotlib.pyplot as plt\n",
    "import seaborn as sns\n",
    "\n",
    "# Sample hardcoded dataset\n",
    "data = {\n",
    "    'Student': ['A', 'B', 'C', 'D', 'E'],\n",
    "    'Math': [75, 88, 60, 95, 70],\n",
    "    'Science': [80, 76, 65, 89, 72],\n",
    "    'English': [78, 90, 55, 92, 68]\n",
    "}\n",
    "\n",
    "df = pd.DataFrame(data)\n",
    "df['Average'] = df[['Math', 'Science', 'English']].mean(axis=1)\n",
    "df\n"
   ]
  },
  {
   "cell_type": "code",
   "execution_count": null,
   "id": "5114f92b",
   "metadata": {},
   "outputs": [],
   "source": [
    "\n",
    "# Detect weak subjects (AI-powered logic placeholder)\n",
    "subject_means = df[['Math','Science','English']].mean().sort_values()\n",
    "weak_subjects = subject_means.head(2)\n",
    "\n",
    "print(\"Detected weak subjects based on performance trends:\")\n",
    "for subject, score in weak_subjects.items():\n",
    "    print(f\"{subject} with average score {score:.2f}\")\n"
   ]
  },
  {
   "cell_type": "code",
   "execution_count": null,
   "id": "f4664fdf",
   "metadata": {},
   "outputs": [],
   "source": [
    "\n",
    "# Plot student average performance\n",
    "plt.figure(figsize=(8,6))\n",
    "sns.barplot(x='Student', y='Average', data=df, palette='Blues_d')\n",
    "plt.title(\"Student Performance (Average across subjects)\")\n",
    "plt.ylabel(\"Average Score\")\n",
    "plt.show()\n",
    "\n",
    "# Heatmap for subject-wise trend analysis\n",
    "plt.figure(figsize=(8,6))\n",
    "sns.heatmap(df.set_index('Student').T, annot=True, cmap=\"YlGnBu\")\n",
    "plt.title(\"Subject-wise Performance Heatmap\")\n",
    "plt.show()\n"
   ]
  }
 ],
 "metadata": {},
 "nbformat": 4,
 "nbformat_minor": 5
}
